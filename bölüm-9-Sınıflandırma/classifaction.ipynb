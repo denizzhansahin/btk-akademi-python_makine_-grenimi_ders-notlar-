{
  "nbformat": 4,
  "nbformat_minor": 0,
  "metadata": {
    "colab": {
      "name": "classifaction.ipynb",
      "provenance": [],
      "collapsed_sections": []
    },
    "kernelspec": {
      "name": "python3",
      "display_name": "Python 3"
    },
    "language_info": {
      "name": "python"
    }
  },
  "cells": [
    {
      "cell_type": "code",
      "execution_count": 11,
      "metadata": {
        "colab": {
          "base_uri": "https://localhost:8080/"
        },
        "id": "mXwwKfrPd4kt",
        "outputId": "b78ebfa5-0712-4c00-b0c2-1136c664ff97"
      },
      "outputs": [
        {
          "output_type": "stream",
          "name": "stdout",
          "text": [
            "[[164  66  32]\n",
            " [165  55  27]\n",
            " [167  62  55]\n",
            " [162  59  41]\n",
            " [125  36  11]\n",
            " [166  56  42]\n",
            " [155  50  44]\n",
            " [159  40  29]]\n",
            "['e' 'e' 'e' 'e' 'k' 'e' 'e' 'e']\n",
            "[['k']\n",
            " ['k']\n",
            " ['k']\n",
            " ['k']\n",
            " ['e']\n",
            " ['k']\n",
            " ['k']\n",
            " ['k']]\n"
          ]
        },
        {
          "output_type": "stream",
          "name": "stderr",
          "text": [
            "/usr/local/lib/python3.7/dist-packages/sklearn/utils/validation.py:993: DataConversionWarning: A column-vector y was passed when a 1d array was expected. Please change the shape of y to (n_samples, ), for example using ravel().\n",
            "  y = column_or_1d(y, warn=True)\n"
          ]
        }
      ],
      "source": [
        "#!/usr/bin/env python3\n",
        "\n",
        "#1.kutuphaneler eklenir\n",
        "from cgi import test\n",
        "import imp\n",
        "import pandas as pd\n",
        "import numpy as np\n",
        "import matplotlib.pyplot as plt\n",
        "\n",
        "#veriler alindi\n",
        "#2.veri onisleme\n",
        "#2.1 veri yukleme\n",
        "veriler = pd.read_csv(\"veriler.csv\")\n",
        "#test\n",
        "\n",
        "x = veriler.iloc[:,1:4].values #bagimsiz degisken\n",
        "y = veriler.iloc[:,4:].values #bagimli degisken\n",
        "\n",
        "\n",
        "#verileri egitim ve test icin bol ve verilerin olceklenmesi\n",
        "from sklearn.model_selection import train_test_split #belli bir yere kadar deneme belli bir yerden sonra test olacak\n",
        "#x bağımsız, y bapımlı değişken\n",
        "\n",
        "x_train, x_test, y_train, y_test = train_test_split(x,y, test_size=0.33, random_state=0)\n",
        "\n",
        "#verileri olcekle\n",
        "from sklearn.preprocessing import StandardScaler\n",
        "sc=StandardScaler()\n",
        "X_train = sc.fit_transform(x_train) #egit ve uygula\n",
        "X_test = sc.transform(x_test) #ogrenmeden uygulama\n",
        "\n",
        "from sklearn.linear_model import LogisticRegression\n",
        "logr = LogisticRegression(random_state=0)\n",
        "logr.fit(X_train, y_train)\n",
        "\n",
        "#tahmin\n",
        "y_pred = logr.predict(X_test)#tahmin et test verisi ile\n",
        "print(x_test)\n",
        "print(y_pred)\n",
        "\n",
        "print(y_test)#gercek bilgi\n",
        "\n",
        "\n"
      ]
    }
  ]
}