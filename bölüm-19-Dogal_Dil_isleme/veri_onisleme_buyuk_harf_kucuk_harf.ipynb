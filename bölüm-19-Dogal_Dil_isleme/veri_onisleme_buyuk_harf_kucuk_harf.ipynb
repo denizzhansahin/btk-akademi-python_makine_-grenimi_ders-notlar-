{
  "nbformat": 4,
  "nbformat_minor": 0,
  "metadata": {
    "colab": {
      "provenance": []
    },
    "kernelspec": {
      "name": "python3",
      "display_name": "Python 3"
    },
    "language_info": {
      "name": "python"
    }
  },
  "cells": [
    {
      "cell_type": "code",
      "execution_count": 22,
      "metadata": {
        "colab": {
          "base_uri": "https://localhost:8080/"
        },
        "id": "MpNISJL4WFCM",
        "outputId": "92c05d3f-78c4-4591-e841-d1ce11765a9f"
      },
      "outputs": [
        {
          "output_type": "stream",
          "name": "stdout",
          "text": [
            "Honeslty it didn t taste THAT fresh  \n",
            "['honeslty', 'it', 'didn', 't', 'taste', 'that', 'fresh']\n"
          ]
        }
      ],
      "source": [
        "from nltk.stem.snowball import PorterStemmer\n",
        "import numpy as np\n",
        "import pandas as pd\n",
        "\n",
        "yorumlar = pd.read_csv('yorumlar.csv')\n",
        "\n",
        "import re\n",
        "#alfa numerik karekter filtrelendi\n",
        "\"\"\"\n",
        "yorum = re.sub('[^a-zA-Z]',' ',yorumlar['Review'][0]) #yoruum alıp, fitrele yaptı ve değiştirdi, boşuk karekteri değişirse siler\n",
        "print(yorum)\n",
        "\"\"\"\n",
        "yorum = re.sub('[^a-zA-Z]',' ',yorumlar['Review'][6]) #yoruum alıp, fitrele yaptı ve değiştirdi\n",
        "print(yorum)\n",
        "yorum = yorum.lower()#yazının tamamı kucuk harfe donusur\n",
        "yorum = yorum.split()#liste olur\n",
        "print(yorum)\n"
      ]
    }
  ]
}