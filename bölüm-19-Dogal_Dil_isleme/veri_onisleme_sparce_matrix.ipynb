{
  "nbformat": 4,
  "nbformat_minor": 0,
  "metadata": {
    "colab": {
      "provenance": []
    },
    "kernelspec": {
      "name": "python3",
      "display_name": "Python 3"
    },
    "language_info": {
      "name": "python"
    }
  },
  "cells": [
    {
      "cell_type": "code",
      "execution_count": 12,
      "metadata": {
        "colab": {
          "base_uri": "https://localhost:8080/"
        },
        "id": "MpNISJL4WFCM",
        "outputId": "22ab38ac-c8bf-4a5b-89cf-0ae079835ecf"
      },
      "outputs": [
        {
          "output_type": "stream",
          "name": "stdout",
          "text": [
            "Wow    Loved this place \n",
            "Honeslty it didn t taste THAT fresh  \n"
          ]
        }
      ],
      "source": [
        "import numpy as np\n",
        "import pandas as pd\n",
        "\n",
        "yorumlar = pd.read_csv('yorumlar.csv')\n",
        "\n",
        "import re\n",
        "#alfa numerik karekter filtrelendi\n",
        "yorum = re.sub('[^a-zA-Z]',' ',yorumlar['Review'][0]) #yoruum alıp, fitrele yaptı ve değiştirdi, boşuk karekteri değişirse siler\n",
        "print(yorum)\n",
        "yorum = re.sub('[^a-zA-Z]',' ',yorumlar['Review'][6]) #yoruum alıp, fitrele yaptı ve değiştirdi\n",
        "print(yorum)"
      ]
    }
  ]
}