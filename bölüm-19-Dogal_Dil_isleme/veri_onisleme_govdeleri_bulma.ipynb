{
  "nbformat": 4,
  "nbformat_minor": 0,
  "metadata": {
    "colab": {
      "provenance": []
    },
    "kernelspec": {
      "name": "python3",
      "display_name": "Python 3"
    },
    "language_info": {
      "name": "python"
    }
  },
  "cells": [
    {
      "cell_type": "code",
      "execution_count": 35,
      "metadata": {
        "colab": {
          "base_uri": "https://localhost:8080/",
          "height": 235
        },
        "id": "MpNISJL4WFCM",
        "outputId": "6ff43c93-016b-4b18-9ab0-017e87db085f"
      },
      "outputs": [
        {
          "output_type": "stream",
          "name": "stderr",
          "text": [
            "[nltk_data] Downloading package stopwords to /root/nltk_data...\n",
            "[nltk_data]   Package stopwords is already up-to-date!\n"
          ]
        },
        {
          "output_type": "error",
          "ename": "TypeError",
          "evalue": "ignored",
          "traceback": [
            "\u001b[0;31m---------------------------------------------------------------------------\u001b[0m",
            "\u001b[0;31mTypeError\u001b[0m                                 Traceback (most recent call last)",
            "\u001b[0;32m<ipython-input-35-c3eb81036bb7>\u001b[0m in \u001b[0;36m<module>\u001b[0;34m\u001b[0m\n\u001b[1;32m     44\u001b[0m   \u001b[0mderlem\u001b[0m\u001b[0;34m.\u001b[0m\u001b[0mappend\u001b[0m\u001b[0;34m(\u001b[0m\u001b[0myorum\u001b[0m\u001b[0;34m)\u001b[0m\u001b[0;34m\u001b[0m\u001b[0;34m\u001b[0m\u001b[0m\n\u001b[1;32m     45\u001b[0m \u001b[0;34m\u001b[0m\u001b[0m\n\u001b[0;32m---> 46\u001b[0;31m \u001b[0mprint\u001b[0m\u001b[0;34m(\u001b[0m\u001b[0mderlem\u001b[0m\u001b[0;34m.\u001b[0m\u001b[0mindex\u001b[0m\u001b[0;34m[\u001b[0m\u001b[0;36m0\u001b[0m\u001b[0;34m]\u001b[0m\u001b[0;34m)\u001b[0m\u001b[0;34m\u001b[0m\u001b[0;34m\u001b[0m\u001b[0m\n\u001b[0m",
            "\u001b[0;31mTypeError\u001b[0m: 'builtin_function_or_method' object is not subscriptable"
          ]
        }
      ],
      "source": [
        "from nltk.stem.snowball import PorterStemmer\n",
        "import numpy as np\n",
        "import pandas as pd\n",
        "\n",
        "yorumlar = pd.read_csv('yorumlar.csv')\n",
        "\n",
        "import re\n",
        "#alfa numerik karekter filtrelendi\n",
        "\"\"\"\n",
        "yorum = re.sub('[^a-zA-Z]',' ',yorumlar['Review'][6]) #yoruum alıp, fitrele yaptı ve değiştirdi, boşuk karekteri değişirse siler\n",
        "print(yorum)\n",
        "\"\"\"\n",
        "\"\"\"\n",
        "yorum = re.sub('[^a-zA-Z]',' ',yorumlar['Review'][0]) #yoruum alıp, fitrele yaptı ve değiştirdi\n",
        "print(yorum)\n",
        "yorum = yorum.lower()#yazının tamamı kucuk harfe donusur\n",
        "yorum = yorum.split()#liste olur\n",
        "print(yorum)\n",
        "\"\"\"\n",
        "import nltk\n",
        "nltk.download('stopwords') #ingilizce stopwords indirdi\n",
        "from nltk.corpus import stopwords\n",
        "\n",
        "from nltk.stem.porter import PorterStemmer #kelime gövedeleri için\n",
        "ps = PorterStemmer()\n",
        "\n",
        "#govdelere ayırdı\n",
        "\"\"\"\n",
        "yorum = [ps.stem(kelime) for kelime in yorum if not kelime in set(stopwords.words('english'))] #liste tanımladık ve ps kullandık\n",
        "print(yorum)\n",
        "\n",
        "#tekrar cumle yap\n",
        "yorum = ' '.join(yorum)\n",
        "\"\"\"\n",
        "\n",
        "derlem = []\n",
        "#yorumlardaki eleman sayısı 1000 tane var\n",
        "for i in range(1000):\n",
        "  yorum = re.sub('[^a-zA-Z]',' ',yorumlar['Review'][i])\n",
        "  yorum = yorum.lower()\n",
        "  yorum = yorum.split()\n",
        "  yorum = [ps.stem(kelime) for kelime in yorum if not kelime in set(stopwords.words('english'))]\n",
        "  yorum = ' '.join\n",
        "  derlem.append(yorum)\n",
        "\n"
      ]
    }
  ]
}