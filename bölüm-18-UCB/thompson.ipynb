{
  "nbformat": 4,
  "nbformat_minor": 0,
  "metadata": {
    "colab": {
      "provenance": []
    },
    "kernelspec": {
      "name": "python3",
      "display_name": "Python 3"
    },
    "language_info": {
      "name": "python"
    }
  },
  "cells": [
    {
      "cell_type": "code",
      "execution_count": 40,
      "metadata": {
        "colab": {
          "base_uri": "https://localhost:8080/",
          "height": 300
        },
        "id": "G64ldbjYG9JP",
        "outputId": "05b043bb-5acb-4926-c797-6e83d48f12b2"
      },
      "outputs": [
        {
          "output_type": "stream",
          "name": "stdout",
          "text": [
            "Toplam Ödül: \n",
            "9984\n"
          ]
        },
        {
          "output_type": "display_data",
          "data": {
            "text/plain": [
              "<Figure size 432x288 with 1 Axes>"
            ],
            "image/png": "[encoded data removed]"
          },
          "metadata": {
            "needs_background": "light"
          }
        }
      ],
      "source": [
        "import numpy as np\n",
        "import pandas as pd\n",
        "import matplotlib.pyplot as plt\n",
        "\n",
        "veriler = pd.read_csv('Ads_CTR_Optimisation.csv')\n",
        "\n",
        "#random selection\n",
        "\"\"\"\n",
        "import random\n",
        "N = 10000\n",
        "d = 10\n",
        "toplam = 0\n",
        "secilenler = []\n",
        "for i in range(0,N):\n",
        "  ad = random.randrange(d) #rastgele bir sayı üret\n",
        "  secilenler.append(ad)\n",
        "  odul = veriler.values[ad] #n.satir 1 ise odul var yoksa 0 alır , bu calismadi odul = veriler.values[n,ad]\n",
        "  toplam = toplam + odul\n",
        "\n",
        "print(toplam)\n",
        "plt.hist(secilenler)\n",
        "plt.show()\n",
        "\"\"\"\n",
        "\n",
        "import random\n",
        "#ucb\n",
        "N = 10000 #tıklama\n",
        "d = 10 #ilan\n",
        "#ri(n)\n",
        "#ni(n)\n",
        "toplam = 0 #toplam ödül\n",
        "secilenler = []\n",
        "birler = [0] * d\n",
        "sifirlar = [0] * d\n",
        "for i in range(1,N):\n",
        "  ad = 0 #secilen ilan\n",
        "  max_th = 0\n",
        "  for i in range(0,10):\n",
        "    rasbeta = random.betavariate(birler[i] +1, sifirlar[i]+1)\n",
        "    if rasbeta > max_th:\n",
        "      max_th = rasbeta\n",
        "      ad = i\n",
        "  secilenler.append(ad)\n",
        "  odul = veriler.values[3,ad] #3 yerine n yaz ama n nereden geldi bulamadım\n",
        "  if odul == 1:\n",
        "    birler[ad] = birler[ad]+1\n",
        "  else:\n",
        "    sifirlar[ad] = sifirlar[ad]+1\n",
        "  toplam = toplam + odul\n",
        "\n",
        "print(\"Toplam Ödül: \")\n",
        "print(toplam)\n",
        "\n",
        "plt.hist(secilenler)\n",
        "plt.show()"
      ]
    }
  ]
}