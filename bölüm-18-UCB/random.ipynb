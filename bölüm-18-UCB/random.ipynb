{
  "nbformat": 4,
  "nbformat_minor": 0,
  "metadata": {
    "colab": {
      "provenance": []
    },
    "kernelspec": {
      "name": "python3",
      "display_name": "Python 3"
    },
    "language_info": {
      "name": "python"
    }
  },
  "cells": [
    {
      "cell_type": "code",
      "execution_count": 14,
      "metadata": {
        "colab": {
          "base_uri": "https://localhost:8080/",
          "height": 282
        },
        "id": "G64ldbjYG9JP",
        "outputId": "5636750d-b3bd-4e65-8132-7a144fe7ed12"
      },
      "outputs": [
        {
          "output_type": "stream",
          "name": "stdout",
          "text": [
            "[2962 2930  992  991 2024    0    0 1004 2109    0]\n"
          ]
        },
        {
          "output_type": "display_data",
          "data": {
            "text/plain": [
              "<Figure size 432x288 with 1 Axes>"
            ],
            "image/png": "[encoded data removed]"
          },
          "metadata": {
            "needs_background": "light"
          }
        }
      ],
      "source": [
        "import numpy as np\n",
        "import pandas as pd\n",
        "import matplotlib.pyplot as plt\n",
        "\n",
        "veriler = pd.read_csv('Ads_CTR_Optimisation.csv')\n",
        "\n",
        "import random\n",
        "N = 10000\n",
        "d = 10\n",
        "toplam = 0\n",
        "secilenler = []\n",
        "for i in range(0,N):\n",
        "  ad = random.randrange(d) #rastgele bir sayı üret\n",
        "  secilenler.append(ad)\n",
        "  odul = veriler.values[ad] #n.satir 1 ise odul var yoksa 0 alır , bu calismadi odul = veriler.values[n,ad]\n",
        "  toplam = toplam + odul\n",
        "\n",
        "print(toplam)\n",
        "plt.hist(secilenler)\n",
        "plt.show()"
      ]
    }
  ]
}