{
  "nbformat": 4,
  "nbformat_minor": 0,
  "metadata": {
    "colab": {
      "provenance": []
    },
    "kernelspec": {
      "name": "python3",
      "display_name": "Python 3"
    },
    "language_info": {
      "name": "python"
    }
  },
  "cells": [
    {
      "cell_type": "code",
      "execution_count": 24,
      "metadata": {
        "colab": {
          "base_uri": "https://localhost:8080/",
          "height": 300
        },
        "id": "G64ldbjYG9JP",
        "outputId": "a93c16cd-c7fc-410b-bc55-69552f133ea5"
      },
      "outputs": [
        {
          "output_type": "stream",
          "name": "stdout",
          "text": [
            "Toplam Ödül: \n",
            "[10000     0     0     0 10000     0     0     0 10000     0]\n"
          ]
        },
        {
          "output_type": "display_data",
          "data": {
            "text/plain": [
              "<Figure size 432x288 with 1 Axes>"
            ],
            "image/png": "[encoded data removed]"
          },
          "metadata": {
            "needs_background": "light"
          }
        }
      ],
      "source": [
        "import numpy as np\n",
        "import pandas as pd\n",
        "import matplotlib.pyplot as plt\n",
        "\n",
        "veriler = pd.read_csv('Ads_CTR_Optimisation.csv')\n",
        "\n",
        "#random selection\n",
        "\"\"\"\n",
        "import random\n",
        "N = 10000\n",
        "d = 10\n",
        "toplam = 0\n",
        "secilenler = []\n",
        "for i in range(0,N):\n",
        "  ad = random.randrange(d) #rastgele bir sayı üret\n",
        "  secilenler.append(ad)\n",
        "  odul = veriler.values[ad] #n.satir 1 ise odul var yoksa 0 alır , bu calismadi odul = veriler.values[n,ad]\n",
        "  toplam = toplam + odul\n",
        "\n",
        "print(toplam)\n",
        "plt.hist(secilenler)\n",
        "plt.show()\n",
        "\"\"\"\n",
        "import math\n",
        "#ucb\n",
        "N = 10000 #tıklama\n",
        "d = 10 #ilan\n",
        "#ri(n)\n",
        "oduller = [0] * d #ilk başta bütün ilanlar sıfır\n",
        "#ni(n)\n",
        "toplam = 0 #toplam ödül\n",
        "tiklamalar = [0] * d #o ana kadarki tıklamalar\n",
        "secilenler = []\n",
        "for i in range(0,N):\n",
        "  ad = 0 #secilen ilan\n",
        "  max_ucb = 0\n",
        "  for i in range(0,10):\n",
        "    if(tiklamalar[i] > 0):\n",
        "      ortalama = oduller[i] / tiklamalar[i]\n",
        "      delta = math.sqrt(3/2 * math.log(n)/tiklamalar[i])\n",
        "      ucb = ortalama + delta\n",
        "    else:\n",
        "      ucb = N*10\n",
        "    if max_ucb < ucb: #maxtan buyuk bir ucb geldi\n",
        "      max_ucb = ucb\n",
        "      ad = i\n",
        "  secilenler.append(ad)\n",
        "  tiklamalar[i] = tiklamalar[ad]+1\n",
        "  odul = veriler.values[ad]\n",
        "  oduller[ad] = oduller[ad] + odul\n",
        "  toplam = toplam + odul\n",
        "\n",
        "print(\"Toplam Ödül: \")\n",
        "print(toplam)\n",
        "\n",
        "plt.hist(secilenler)\n",
        "plt.show()"
      ]
    }
  ]
}