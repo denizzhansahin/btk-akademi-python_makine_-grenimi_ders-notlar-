{
  "nbformat": 4,
  "nbformat_minor": 0,
  "metadata": {
    "colab": {
      "name": "r2_score",
      "provenance": [],
      "collapsed_sections": []
    },
    "kernelspec": {
      "name": "python3",
      "display_name": "Python 3"
    },
    "language_info": {
      "name": "python"
    }
  },
  "cells": [
    {
      "cell_type": "code",
      "execution_count": 59,
      "metadata": {
        "id": "rH0o1wPT2M4Q",
        "colab": {
          "base_uri": "https://localhost:8080/",
          "height": 1000
        },
        "outputId": "4e68cb06-ce3f-415b-af91-0de60dc4767d"
      },
      "outputs": [
        {
          "output_type": "display_data",
          "data": {
            "text/plain": [
              "<Figure size 432x288 with 1 Axes>"
            ],
            "image/png": "[encoded data removed]"
          },
          "metadata": {
            "needs_background": "light"
          }
        },
        {
          "output_type": "stream",
          "name": "stdout",
          "text": [
            "\n",
            "\n",
            "lineear regresyon r2 score value\n",
            "0.6690412331929894\n",
            "[[  1.   1.   1.]\n",
            " [  1.   2.   4.]\n",
            " [  1.   3.   9.]\n",
            " [  1.   4.  16.]\n",
            " [  1.   5.  25.]\n",
            " [  1.   6.  36.]\n",
            " [  1.   7.  49.]\n",
            " [  1.   8.  64.]\n",
            " [  1.   9.  81.]\n",
            " [  1.  10. 100.]]\n"
          ]
        },
        {
          "output_type": "display_data",
          "data": {
            "text/plain": [
              "<Figure size 432x288 with 1 Axes>"
            ],
            "image/png": "[encoded data removed]"
          },
          "metadata": {
            "needs_background": "light"
          }
        },
        {
          "output_type": "stream",
          "name": "stdout",
          "text": [
            "[[1.000e+00 1.000e+00 1.000e+00 1.000e+00 1.000e+00]\n",
            " [1.000e+00 2.000e+00 4.000e+00 8.000e+00 1.600e+01]\n",
            " [1.000e+00 3.000e+00 9.000e+00 2.700e+01 8.100e+01]\n",
            " [1.000e+00 4.000e+00 1.600e+01 6.400e+01 2.560e+02]\n",
            " [1.000e+00 5.000e+00 2.500e+01 1.250e+02 6.250e+02]\n",
            " [1.000e+00 6.000e+00 3.600e+01 2.160e+02 1.296e+03]\n",
            " [1.000e+00 7.000e+00 4.900e+01 3.430e+02 2.401e+03]\n",
            " [1.000e+00 8.000e+00 6.400e+01 5.120e+02 4.096e+03]\n",
            " [1.000e+00 9.000e+00 8.100e+01 7.290e+02 6.561e+03]\n",
            " [1.000e+00 1.000e+01 1.000e+02 1.000e+03 1.000e+04]]\n"
          ]
        },
        {
          "output_type": "display_data",
          "data": {
            "text/plain": [
              "<Figure size 432x288 with 1 Axes>"
            ],
            "image/png": "[encoded data removed]"
          },
          "metadata": {
            "needs_background": "light"
          }
        },
        {
          "output_type": "stream",
          "name": "stdout",
          "text": [
            "[[34716.66666667]]\n",
            "[[16923.33333333]]\n",
            "[[8146.9948718]]\n",
            "[[89041.66666669]]\n",
            "\n",
            "\n",
            "polinom regresyon r2 score value\n",
            "0.9162082221443943\n"
          ]
        }
      ],
      "source": [
        "#1.kutuphaneler eklenir\n",
        "from cgi import test\n",
        "import imp\n",
        "import pandas as pd\n",
        "import numpy as np\n",
        "import matplotlib.pyplot as plt\n",
        "from sklearn.metrics import r2_score\n",
        "\n",
        "#veri yukleme\n",
        "veriler = pd.read_csv(\"maaslar.csv\")\n",
        "#print(veriler)\n",
        "\n",
        "#data frame dilimleme(slice)\n",
        "x = veriler.iloc[:,1:2] #tum satırlar ve 0'dan 2'e kadar 2 haric- hepsini al\n",
        "y = veriler.iloc[:, 2:]\n",
        "#dataframe nedeni ile grafik sorunu yasamamak icin degerlerini al\n",
        "#dizi, numpy array donusumu\n",
        "X = x.values\n",
        "Y = y.values\n",
        "\n",
        "#print(x)\n",
        "#print(y)\n",
        "\n",
        "\n",
        "\n",
        "#polynomial regression\n",
        "#dogrusal model olusturma\n",
        "from sklearn.linear_model import LinearRegression\n",
        "lin_reg = LinearRegression()\n",
        "lin_reg.fit(X,Y)\n",
        "plt.scatter(X,Y,color=\"red\")\n",
        "plt.plot(x,lin_reg.predict(X),color=\"blue\")\n",
        "plt.show()\n",
        "\n",
        "print('\\n')\n",
        "print('lineear regresyon r2 score value')\n",
        "print(r2_score(Y,lin_reg.predict(X)))\n",
        "print('\\n')\n",
        "\n",
        "#polynomial regreassion\n",
        "#dogrusal olmayan nonlinear model olusturma\n",
        "from sklearn.preprocessing import PolynomialFeatures\n",
        "poly_reg = PolynomialFeatures(degree=2) #ikinci dereceden olustur\n",
        "x_poly = poly_reg.fit_transform(X)\n",
        "print(x_poly)\n",
        "lin_reg2 = LinearRegression()\n",
        "lin_reg2.fit(x_poly,y) #x'e gore y'yi egit\n",
        "plt.scatter(X,Y,color=\"red\")\n",
        "plt.plot(X,lin_reg2.predict(poly_reg.fit_transform(X)),color=\"blue\")\n",
        "plt.show()\n",
        "\n",
        "poly_reg2 = PolynomialFeatures(degree=4) #ikinci dereceden olustur\n",
        "x_poly = poly_reg2.fit_transform(X)\n",
        "print(x_poly)\n",
        "\n",
        "lin_reg3 = LinearRegression()\n",
        "lin_reg3.fit(x_poly,y) #x'e gore y'yi egit\n",
        "plt.scatter(X,Y,color=\"red\")\n",
        "plt.plot(X,lin_reg3.predict(poly_reg2.fit_transform(X)),color=\"blue\")\n",
        "plt.show()\n",
        "\n",
        "#Tahmin\n",
        "print(lin_reg.predict([[11]]))\n",
        "print(lin_reg.predict([[6.6]]))\n",
        "#tahmine varmadan donusum yap\n",
        "print(lin_reg3.predict(poly_reg2.fit_transform([[6.6]])))\n",
        "print(lin_reg3.predict(poly_reg2.fit_transform([[11]])))\n",
        "\n",
        "print('\\n')\n",
        "print('polinom regresyon r2 score value')\n",
        "print(r2_score(Y,lin_reg2.predict(poly_reg.fit_transform(X))))"
      ]
    },
    {
      "cell_type": "code",
      "source": [
        "from sklearn.preprocessing import StandardScaler\n",
        "sc1=StandardScaler()\n",
        "X_olcekli = sc1.fit_transform(X)\n",
        "sc2=StandardScaler()\n",
        "Y_olcekli = sc2.fit_transform(Y)"
      ],
      "metadata": {
        "id": "7tSURZvrJwC0"
      },
      "execution_count": null,
      "outputs": []
    },
    {
      "cell_type": "code",
      "source": [
        "from sklearn.svm import SVR\n",
        "SVR_reg = SVR(kernel = 'rbf')\n",
        "SVR_reg.fit(X_olcekli,Y_olcekli)\n",
        "plt.scatter(X_olcekli,Y_olcekli,color=\"red\")\n",
        "plt.plot(X_olcekli,SVR_reg.predict(X_olcekli),color=\"blue\")\n",
        "plt.show()\n",
        "print(SVR_reg.predict([[11]]))\n",
        "print(SVR_reg.predict([[6.6]]))\n",
        "\n",
        "print('svr r2 score value')\n",
        "print(r2_score(Y_olcekli,SVR_reg.predict(X_olcekli)))"
      ],
      "metadata": {
        "colab": {
          "base_uri": "https://localhost:8080/",
          "height": 389
        },
        "id": "ngDiPzxxLTNj",
        "outputId": "fae7ad3a-ea8a-4c2c-e37c-40a0cb41efc4"
      },
      "execution_count": 56,
      "outputs": [
        {
          "output_type": "stream",
          "name": "stderr",
          "text": [
            "/usr/local/lib/python3.7/dist-packages/sklearn/utils/validation.py:993: DataConversionWarning: A column-vector y was passed when a 1d array was expected. Please change the shape of y to (n_samples, ), for example using ravel().\n",
            "  y = column_or_1d(y, warn=True)\n"
          ]
        },
        {
          "output_type": "display_data",
          "data": {
            "text/plain": [
              "<Figure size 432x288 with 1 Axes>"
            ],
            "image/png": "[encoded data removed]"
          },
          "metadata": {
            "needs_background": "light"
          }
        },
        {
          "output_type": "stream",
          "name": "stdout",
          "text": [
            "[0.01150915]\n",
            "[0.01150915]\n",
            "svr forest r2 score value\n",
            "0.7513836788854973\n"
          ]
        }
      ]
    },
    {
      "cell_type": "code",
      "source": [
        "from sklearn.tree import DecisionTreeRegressor\n",
        "r_dt  = DecisionTreeRegressor(random_state = 0)\n",
        "r_dt.fit(X,Y)\n",
        "Z = X + 0.5\n",
        "K = X - 0.4\n",
        "plt.scatter(X,Y,color=\"red\")\n",
        "plt.plot(X,r_dt.predict(X), color=\"blue\")\n",
        "plt.plot(x,r_dt.predict(Z), color = \"green\")\n",
        "plt.plot(x,r_dt.predict(K), color=\"yellow\")\n",
        "plt.plot(r_dt.predict([[11]]))\n",
        "plt.plot(r_dt.predict([[6.6]]))\n",
        "plt.show()\n",
        "\n",
        "print(r_dt.predict([[11]]))\n",
        "print(r_dt.predict([[6.6]]))\n",
        "\n",
        "print('decision forest r2 score value')\n",
        "print(r2_score(Y,r_dt.predict(X)))"
      ],
      "metadata": {
        "colab": {
          "base_uri": "https://localhost:8080/",
          "height": 334
        },
        "id": "5-TYC4I2R0sR",
        "outputId": "caeb32c6-11f9-46bb-800f-a9bd6bb65695"
      },
      "execution_count": 54,
      "outputs": [
        {
          "output_type": "display_data",
          "data": {
            "text/plain": [
              "<Figure size 432x288 with 1 Axes>"
            ],
            "image/png": "[encoded data removed]"
          },
          "metadata": {
            "needs_background": "light"
          }
        },
        {
          "output_type": "stream",
          "name": "stdout",
          "text": [
            "[50000.]\n",
            "[10000.]\n",
            "Random forest r2 score value\n",
            "1.0\n"
          ]
        }
      ]
    },
    {
      "cell_type": "code",
      "source": [
        "from sklearn.ensemble import RandomForestRegressor\n",
        "rf_reg = RandomForestRegressor(n_estimators = 10,random_state=0) #n_estimators ne kadar estimator kullanılacak 10 farklı decision tree\n",
        "rf_reg.fit(X,Y.ravel())\n",
        "print(rf_reg.predict([[6.6]]))\n",
        "\n",
        "plt.scatter(X,Y,color=\"red\")\n",
        "plt.plot(X,rf_reg.predict(X),color=\"blue\")\n",
        "\n",
        "plt.plot(X,rf_reg.predict(Z),color=\"green\")\n",
        "plt.plot(x,r_dt.predict(K),color=\"yellow\")"
      ],
      "metadata": {
        "colab": {
          "base_uri": "https://localhost:8080/",
          "height": 300
        },
        "id": "jXv1ZCSTXvHy",
        "outputId": "cc140ce2-b74a-4baa-fc1c-ace22c0f61a3"
      },
      "execution_count": null,
      "outputs": [
        {
          "output_type": "stream",
          "name": "stdout",
          "text": [
            "[10500.]\n"
          ]
        },
        {
          "output_type": "execute_result",
          "data": {
            "text/plain": [
              "[<matplotlib.lines.Line2D at 0x7eff9a396e90>]"
            ]
          },
          "metadata": {},
          "execution_count": 49
        },
        {
          "output_type": "display_data",
          "data": {
            "text/plain": [
              "<Figure size 432x288 with 1 Axes>"
            ],
            "image/png": "[encoded data removed]"
          },
          "metadata": {
            "needs_background": "light"
          }
        }
      ]
    },
    {
      "cell_type": "code",
      "source": [
        "from sklearn.metrics import r2_score\n",
        "print('Random forest r2 score value')\n",
        "print(r2_score(Y,rf_reg.predict(X)))"
      ],
      "metadata": {
        "colab": {
          "base_uri": "https://localhost:8080/"
        },
        "id": "SKDFNNmDmJpq",
        "outputId": "4dfea733-37d6-4260-f5d8-22c780311fe5"
      },
      "execution_count": 53,
      "outputs": [
        {
          "output_type": "stream",
          "name": "stdout",
          "text": [
            "Random forest r2 score value\n",
            "0.9704434230386582\n"
          ]
        }
      ]
    },
    {
      "cell_type": "code",
      "source": [
        "#Özet r2 değerleri\n",
        "print('lineear regresyon r2 score value')\n",
        "print(r2_score(Y,lin_reg.predict(X)))\n",
        "print('\\n')\n",
        "print('polinom regresyon r2 score value')\n",
        "print(r2_score(Y,lin_reg2.predict(poly_reg.fit_transform(X))))\n",
        "print('\\n')\n",
        "print('svr r2 score value')\n",
        "print(r2_score(Y_olcekli,SVR_reg.predict(X_olcekli)))\n",
        "print('\\n')\n",
        "print('decision forest r2 score value')\n",
        "print(r2_score(Y,r_dt.predict(X)))\n",
        "print('\\n')\n",
        "print('Random forest r2 score value')\n",
        "print(r2_score(Y,rf_reg.predict(X)))"
      ],
      "metadata": {
        "colab": {
          "base_uri": "https://localhost:8080/"
        },
        "id": "8pD4JXIrph3K",
        "outputId": "7de4c632-5747-4334-cd29-6399e9e7954c"
      },
      "execution_count": 61,
      "outputs": [
        {
          "output_type": "stream",
          "name": "stdout",
          "text": [
            "lineear regresyon r2 score value\n",
            "0.6690412331929894\n",
            "\n",
            "\n",
            "polinom regresyon r2 score value\n",
            "0.9162082221443943\n",
            "\n",
            "\n",
            "svr r2 score value\n",
            "0.7513836788854973\n",
            "\n",
            "\n",
            "decision forest r2 score value\n",
            "1.0\n",
            "\n",
            "\n",
            "Random forest r2 score value\n",
            "0.9704434230386582\n"
          ]
        }
      ]
    }
  ]
}