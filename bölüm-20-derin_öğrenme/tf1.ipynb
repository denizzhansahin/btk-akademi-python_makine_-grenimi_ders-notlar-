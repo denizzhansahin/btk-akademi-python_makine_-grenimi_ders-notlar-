{
  "nbformat": 4,
  "nbformat_minor": 0,
  "metadata": {
    "colab": {
      "provenance": []
    },
    "kernelspec": {
      "name": "python3",
      "display_name": "Python 3"
    },
    "language_info": {
      "name": "python"
    }
  },
  "cells": [
    {
      "cell_type": "code",
      "execution_count": null,
      "metadata": {
        "id": "lX8Cb4GSg1fM"
      },
      "outputs": [],
      "source": [
        "pip install theano"
      ]
    },
    {
      "cell_type": "code",
      "source": [
        "pip install tensorflow"
      ],
      "metadata": {
        "id": "p9_hpM6IhX8T"
      },
      "execution_count": null,
      "outputs": []
    },
    {
      "cell_type": "code",
      "source": [
        "pip install keras"
      ],
      "metadata": {
        "id": "k2tvY2WQhh_V"
      },
      "execution_count": null,
      "outputs": []
    },
    {
      "cell_type": "code",
      "source": [
        "import tensorflow as tf\n",
        "hello = tf.constant('Hello, Tensorflow')\n",
        "print((hello))"
      ],
      "metadata": {
        "colab": {
          "base_uri": "https://localhost:8080/"
        },
        "id": "275u0-Xnis8G",
        "outputId": "91bb8bb2-7133-4d10-fd37-5d26c838c9a4"
      },
      "execution_count": 15,
      "outputs": [
        {
          "output_type": "stream",
          "name": "stdout",
          "text": [
            "tf.Tensor(b'Hello, Tensorflow', shape=(), dtype=string)\n"
          ]
        }
      ]
    },
    {
      "cell_type": "code",
      "source": [
        "#!/usr/bin/env python3\n",
        "from cgi import test\n",
        "import imp\n",
        "import pandas as pd\n",
        "import numpy as np\n",
        "import matplotlib.pyplot as plt\n",
        "\n",
        "#veriler alindi\n",
        "veriler = pd.read_csv(\"Churn_Modelling.csv\")\n",
        "print(veriler)\n",
        "\n",
        "X = veriler.iloc[:,3:13].values\n",
        "Y = veriler.iloc[:,13].values\n",
        "from sklearn import preprocessing\n",
        "le = preprocessing.LabelEncoder()\n",
        "X[:,1] = le.fit_transform(X[:,1])\n",
        "le2 = preprocessing.LabelEncoder()\n",
        "X[:,2] = le2.fit_transform(X[:,2])\n",
        "\n",
        "from sklearn.preprocessing import OneHotEncoder\n",
        "from sklearn.compose import ColumnTransformer\n",
        "#aynı ANDA dönüştürme , farklı kolon yapılarını birleştri ve dönüştür\n",
        "ohe = ColumnTransformer([(\"ohe\", OneHotEncoder(dtype=float),[1])],\n",
        "                        remainder=\"passthrough\"\n",
        ")\n",
        "X = ohe.fit_transform(X)\n",
        "X = X[:,1:]\n",
        "\n",
        "\n",
        "#eksik verileri doldur\n",
        "from sklearn.impute import SimpleImputer\n",
        "imputer = SimpleImputer(missing_values=np.nan, strategy=\"mean\")\n",
        "\n",
        "\n",
        "#donusum\n",
        "from sklearn import preprocessing\n",
        "\n",
        "from sklearn.model_selection import train_test_split #belli bir yere kadar deneme belli bir yerden sonra test olacak\n",
        "#x bağımsız, y bapımlı değişken\n",
        "\n",
        "x_train, x_test, y_train, y_test = train_test_split(X, Y, test_size=0.33, random_state=0)\n",
        "\n",
        "#farkli dünyadaki veriler aynı dünyaya ekle\n",
        "from sklearn.preprocessing import StandardScaler\n",
        "sc=StandardScaler()\n",
        "x_train = sc.fit_transform(x_train)\n",
        "x_test = sc.fit_transform(x_test)\n",
        "print(x_train)\n",
        "print(x_test)"
      ],
      "metadata": {
        "colab": {
          "base_uri": "https://localhost:8080/"
        },
        "id": "YIViC2jnkcsY",
        "outputId": "136ea88a-d99a-4128-c6bf-2547ea14d304"
      },
      "execution_count": 24,
      "outputs": [
        {
          "output_type": "stream",
          "name": "stdout",
          "text": [
            "      RowNumber  CustomerId    Surname  CreditScore Geography  Gender  Age  \\\n",
            "0             1    15634602   Hargrave          619    France  Female   42   \n",
            "1             2    15647311       Hill          608     Spain  Female   41   \n",
            "2             3    15619304       Onio          502    France  Female   42   \n",
            "3             4    15701354       Boni          699    France  Female   39   \n",
            "4             5    15737888   Mitchell          850     Spain  Female   43   \n",
            "...         ...         ...        ...          ...       ...     ...  ...   \n",
            "9995       9996    15606229   Obijiaku          771    France    Male   39   \n",
            "9996       9997    15569892  Johnstone          516    France    Male   35   \n",
            "9997       9998    15584532        Liu          709    France  Female   36   \n",
            "9998       9999    15682355  Sabbatini          772   Germany    Male   42   \n",
            "9999      10000    15628319     Walker          792    France  Female   28   \n",
            "\n",
            "      Tenure    Balance  NumOfProducts  HasCrCard  IsActiveMember  \\\n",
            "0          2       0.00              1          1               1   \n",
            "1          1   83807.86              1          0               1   \n",
            "2          8  159660.80              3          1               0   \n",
            "3          1       0.00              2          0               0   \n",
            "4          2  125510.82              1          1               1   \n",
            "...      ...        ...            ...        ...             ...   \n",
            "9995       5       0.00              2          1               0   \n",
            "9996      10   57369.61              1          1               1   \n",
            "9997       7       0.00              1          0               1   \n",
            "9998       3   75075.31              2          1               0   \n",
            "9999       4  130142.79              1          1               0   \n",
            "\n",
            "      EstimatedSalary  Exited  \n",
            "0           101348.88       1  \n",
            "1           112542.58       0  \n",
            "2           113931.57       1  \n",
            "3            93826.63       0  \n",
            "4            79084.10       0  \n",
            "...               ...     ...  \n",
            "9995         96270.64       0  \n",
            "9996        101699.77       0  \n",
            "9997         42085.58       1  \n",
            "9998         92888.52       1  \n",
            "9999         38190.78       0  \n",
            "\n",
            "[10000 rows x 14 columns]\n",
            "[[-0.56953701 -0.57436296 -1.78451879 ... -1.56299709 -1.03339307\n",
            "   1.0890591 ]\n",
            " [-0.56953701 -0.57436296  1.47401668 ...  0.63979645  0.967686\n",
            "  -0.4551902 ]\n",
            " [-0.56953701 -0.57436296 -0.82854466 ... -1.56299709  0.967686\n",
            "  -0.65446947]\n",
            " ...\n",
            " [-0.56953701 -0.57436296  0.89837634 ...  0.63979645 -1.03339307\n",
            "   1.40745917]\n",
            " [-0.56953701  1.74105933 -0.62295883 ...  0.63979645  0.967686\n",
            "   0.83939459]\n",
            " [ 1.75581215 -0.57436296 -0.2837422  ...  0.63979645 -1.03339307\n",
            "   0.31973777]]\n",
            "[[ 1.67387076 -0.57268474 -0.55982398 ...  0.65890748  0.97545271\n",
            "   1.62753708]\n",
            " [-0.59741769 -0.57268474 -1.33593594 ...  0.65890748 -1.02516503\n",
            "   0.51106949]\n",
            " [-0.59741769  1.74616143  0.58336795 ...  0.65890748  0.97545271\n",
            "  -0.4108104 ]\n",
            " ...\n",
            " [-0.59741769  1.74616143  0.35263197 ... -1.51766376 -1.02516503\n",
            "   0.36457371]\n",
            " [ 1.67387076 -0.57268474 -0.76958397 ... -1.51766376 -1.02516503\n",
            "   0.44908773]\n",
            " [-0.59741769 -0.57268474  0.89800794 ... -1.51766376  0.97545271\n",
            "   1.61499064]]\n"
          ]
        }
      ]
    }
  ]
}