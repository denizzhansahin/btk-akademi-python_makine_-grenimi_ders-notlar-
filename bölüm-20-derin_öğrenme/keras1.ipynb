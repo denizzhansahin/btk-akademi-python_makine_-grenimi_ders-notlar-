{
  "nbformat": 4,
  "nbformat_minor": 0,
  "metadata": {
    "colab": {
      "provenance": []
    },
    "kernelspec": {
      "name": "python3",
      "display_name": "Python 3"
    },
    "language_info": {
      "name": "python"
    }
  },
  "cells": [
    {
      "cell_type": "code",
      "execution_count": null,
      "metadata": {
        "id": "lX8Cb4GSg1fM"
      },
      "outputs": [],
      "source": [
        "pip install theano"
      ]
    },
    {
      "cell_type": "code",
      "source": [
        "pip install tensorflow"
      ],
      "metadata": {
        "id": "p9_hpM6IhX8T"
      },
      "execution_count": null,
      "outputs": []
    },
    {
      "cell_type": "code",
      "source": [
        "pip install keras"
      ],
      "metadata": {
        "id": "k2tvY2WQhh_V"
      },
      "execution_count": null,
      "outputs": []
    },
    {
      "cell_type": "code",
      "source": [
        "import tensorflow as tf\n",
        "hello = tf.constant('Hello, Tensorflow')\n",
        "print((hello))"
      ],
      "metadata": {
        "id": "275u0-Xnis8G"
      },
      "execution_count": null,
      "outputs": []
    },
    {
      "cell_type": "code",
      "source": [
        "#!/usr/bin/env python3\n",
        "from cgi import test\n",
        "import imp\n",
        "import pandas as pd\n",
        "import numpy as np\n",
        "import matplotlib.pyplot as plt\n",
        "\n",
        "#veriler alindi\n",
        "veriler = pd.read_csv(\"Churn_Modelling.csv\")\n",
        "print(veriler)\n",
        "\n",
        "X = veriler.iloc[:,3:13].values\n",
        "Y = veriler.iloc[:,13].values\n",
        "from sklearn import preprocessing\n",
        "le = preprocessing.LabelEncoder()\n",
        "X[:,1] = le.fit_transform(X[:,1])\n",
        "le2 = preprocessing.LabelEncoder()\n",
        "X[:,2] = le2.fit_transform(X[:,2])\n",
        "\n",
        "from sklearn.preprocessing import OneHotEncoder\n",
        "from sklearn.compose import ColumnTransformer\n",
        "#aynı ANDA dönüştürme , farklı kolon yapılarını birleştri ve dönüştür\n",
        "ohe = ColumnTransformer([(\"ohe\", OneHotEncoder(dtype=float),[1])],\n",
        "                        remainder=\"passthrough\"\n",
        ")\n",
        "X = ohe.fit_transform(X)\n",
        "X = X[:,1:]\n",
        "\n",
        "\n",
        "#eksik verileri doldur\n",
        "from sklearn.impute import SimpleImputer\n",
        "imputer = SimpleImputer(missing_values=np.nan, strategy=\"mean\")\n",
        "\n",
        "\n",
        "#donusum\n",
        "from sklearn import preprocessing\n",
        "\n",
        "from sklearn.model_selection import train_test_split #belli bir yere kadar deneme belli bir yerden sonra test olacak\n",
        "#x bağımsız, y bapımlı değişken\n",
        "\n",
        "x_train, x_test, y_train, y_test = train_test_split(X, Y, test_size=0.33, random_state=0)\n",
        "\n",
        "#farkli dünyadaki veriler aynı dünyaya ekle\n",
        "from sklearn.preprocessing import StandardScaler\n",
        "sc=StandardScaler()\n",
        "x_train = sc.fit_transform(x_train)\n",
        "x_test = sc.fit_transform(x_test)\n",
        "print(x_train)\n",
        "print(x_test)"
      ],
      "metadata": {
        "id": "YIViC2jnkcsY"
      },
      "execution_count": null,
      "outputs": []
    },
    {
      "cell_type": "code",
      "source": [
        "import keras\n",
        "from keras.models import Sequential #ysa oluştur\n",
        "from keras.layers import Dense\n",
        "\n",
        "classifier = Sequential()#yapay sinir ağı oluştu\n",
        "classifier.add(Dense(6, activation=\"relu\", input_dim = 11))#dense kaç katman olacak, 6 gizli 11 giriş"
      ],
      "metadata": {
        "id": "c_fsH05LqTbQ"
      },
      "execution_count": 6,
      "outputs": []
    },
    {
      "cell_type": "code",
      "source": [
        "classifier.add(Dense(6, activation=\"relu\"))"
      ],
      "metadata": {
        "id": "ICPmnQzmuafj"
      },
      "execution_count": 7,
      "outputs": []
    }
  ]
}