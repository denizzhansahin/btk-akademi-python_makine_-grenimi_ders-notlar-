{
  "nbformat": 4,
  "nbformat_minor": 0,
  "metadata": {
    "colab": {
      "name": "svm_poly.ipynb",
      "provenance": [],
      "collapsed_sections": []
    },
    "kernelspec": {
      "name": "python3",
      "display_name": "Python 3"
    },
    "language_info": {
      "name": "python"
    }
  },
  "cells": [
    {
      "cell_type": "code",
      "execution_count": 29,
      "metadata": {
        "colab": {
          "base_uri": "https://localhost:8080/"
        },
        "id": "mXwwKfrPd4kt",
        "outputId": "ea8d9bbd-78b8-4fc5-e5a3-4bf9adc56930"
      },
      "outputs": [
        {
          "output_type": "stream",
          "name": "stdout",
          "text": [
            "[[1 0]\n",
            " [7 0]]\n"
          ]
        },
        {
          "output_type": "stream",
          "name": "stderr",
          "text": [
            "/usr/local/lib/python3.7/dist-packages/sklearn/utils/validation.py:993: DataConversionWarning: A column-vector y was passed when a 1d array was expected. Please change the shape of y to (n_samples, ), for example using ravel().\n",
            "  y = column_or_1d(y, warn=True)\n",
            "/usr/local/lib/python3.7/dist-packages/sklearn/neighbors/_classification.py:198: DataConversionWarning: A column-vector y was passed when a 1d array was expected. Please change the shape of y to (n_samples,), for example using ravel().\n",
            "  return self._fit(X, y)\n",
            "/usr/local/lib/python3.7/dist-packages/sklearn/utils/validation.py:993: DataConversionWarning: A column-vector y was passed when a 1d array was expected. Please change the shape of y to (n_samples, ), for example using ravel().\n",
            "  y = column_or_1d(y, warn=True)\n"
          ]
        }
      ],
      "source": [
        "#!/usr/bin/env python3\n",
        "\n",
        "#1.kutuphaneler eklenir\n",
        "from cgi import test\n",
        "import imp\n",
        "import pandas as pd\n",
        "import numpy as np\n",
        "import matplotlib.pyplot as plt\n",
        "\n",
        "#veriler alindi\n",
        "#2.veri onisleme\n",
        "#2.1 veri yukleme\n",
        "veriler = pd.read_csv(\"veriler.csv\")\n",
        "#test\n",
        "\n",
        "x = veriler.iloc[:,1:4].values #bagimsiz degisken\n",
        "y = veriler.iloc[:,4:].values #bagimli degisken\n",
        "\n",
        "\n",
        "#verileri egitim ve test icin bol ve verilerin olceklenmesi\n",
        "from sklearn.model_selection import train_test_split #belli bir yere kadar deneme belli bir yerden sonra test olacak\n",
        "#x bağımsız, y bapımlı değişken\n",
        "x_train, x_test, y_train, y_test = train_test_split(x,y, test_size=0.33, random_state=0)\n",
        "\n",
        "#verileri olcekle\n",
        "from sklearn.preprocessing import StandardScaler\n",
        "sc=StandardScaler()\n",
        "X_train = sc.fit_transform(x_train) #egit ve uygula\n",
        "X_test = sc.transform(x_test) #ogrenmeden uygulama\n",
        "\n",
        "from sklearn.linear_model import LogisticRegression\n",
        "logr = LogisticRegression(random_state=0)\n",
        "logr.fit(X_train, y_train)\n",
        "\n",
        "#tahmin\n",
        "y_pred = logr.predict(X_test)#tahmin et test verisi ile\n",
        "#print(x_test)\n",
        "#print(y_pred)\n",
        "\n",
        "#print(y_test)#gercek bilgi\n",
        "\n",
        "from sklearn.metrics import confusion_matrix\n",
        "cm = confusion_matrix(y_test, y_pred)\n",
        "#print(cm)\n",
        "\n",
        "\n",
        "from sklearn.neighbors import KNeighborsClassifier\n",
        "knn = KNeighborsClassifier(n_neighbors=5, metric='minkowski') #n düşerse ufak örneklerde sınıflandır, komşu sayısı azalır\n",
        "knn.fit(X_train,y_train)\n",
        "y_pred = knn.predict(X_test)\n",
        "\n",
        "cm = confusion_matrix(y_test,y_pred)\n",
        "#print(cm)\n",
        "\n",
        "\n",
        "from sklearn.svm import SVC\n",
        "#svc = SVC(kernel=\"linear\")\n",
        "svc = SVC(kernel=\"poly\") #kernelleri degistirr daha iyi sonuc elde edebilirsin\n",
        "svc.fit(X_train, y_train)\n",
        "y_pred = svc.predict(X_test)\n",
        "cm = confusion_matrix(y_test,y_pred)\n",
        "print(cm)"
      ]
    }
  ]
}