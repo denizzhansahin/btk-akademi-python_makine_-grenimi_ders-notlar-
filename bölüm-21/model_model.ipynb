{
  "nbformat": 4,
  "nbformat_minor": 0,
  "metadata": {
    "colab": {
      "provenance": []
    },
    "kernelspec": {
      "name": "python3",
      "display_name": "Python 3"
    },
    "language_info": {
      "name": "python"
    }
  },
  "cells": [
    {
      "cell_type": "code",
      "execution_count": 11,
      "metadata": {
        "colab": {
          "base_uri": "https://localhost:8080/"
        },
        "id": "RbGEiNcol8fF",
        "outputId": "6a3dd660-b6ed-4fea-858d-642b2df8acf2"
      },
      "outputs": [
        {
          "output_type": "stream",
          "name": "stdout",
          "text": [
            "[[8.00000e+00 1.96715e+04]\n",
            " [1.00000e+01 2.31025e+04]\n",
            " [1.10000e+01 1.88655e+04]\n",
            " [1.30000e+01 2.17625e+04]\n",
            " [1.40000e+01 1.99455e+04]\n",
            " [1.90000e+01 2.83210e+04]\n",
            " [1.90000e+01 3.00750e+04]\n",
            " [2.00000e+01 2.72225e+04]\n",
            " [2.00000e+01 3.22225e+04]\n",
            " [2.40000e+01 2.85945e+04]\n",
            " [2.50000e+01 3.16090e+04]\n",
            " [2.50000e+01 2.78970e+04]\n",
            " [2.50000e+01 2.84785e+04]\n",
            " [2.60000e+01 2.85405e+04]\n",
            " [2.90000e+01 3.05555e+04]\n",
            " [3.10000e+01 3.39690e+04]\n",
            " [3.20000e+01 3.30145e+04]\n",
            " [3.40000e+01 4.15440e+04]\n",
            " [3.70000e+01 4.06815e+04]\n",
            " [3.70000e+01 4.69700e+03]\n",
            " [4.20000e+01 4.58690e+04]\n",
            " [4.40000e+01 4.91365e+04]\n",
            " [4.90000e+01 5.06510e+04]\n",
            " [5.00000e+01 5.69060e+04]\n",
            " [5.40000e+01 5.47155e+04]\n",
            " [5.50000e+01 5.27910e+04]\n",
            " [5.90000e+01 5.84845e+04]\n",
            " [5.90000e+01 5.63175e+04]\n",
            " [6.40000e+01 6.11955e+04]\n",
            " [6.50000e+01 6.09360e+04]]\n"
          ]
        }
      ],
      "source": [
        "import pandas as pd\n",
        "url = \"http://bilkav.com/satislar.csv\"\n",
        "veriler = pd.read_csv(url)\n",
        "veriler = veriler.values\n",
        "print(veriler)"
      ]
    },
    {
      "cell_type": "code",
      "source": [
        "X = veriler[:,0:1]\n",
        "Y = veriler[:,1]\n",
        "\n",
        "bolme = 0.33\n",
        "from sklearn import model_selection\n",
        "x_t,x_te,y_t,y_te = model_selection.train_test_split(X,Y,test_size = bolme)\n",
        "\n",
        "\"\"\"\n",
        "from sklearn.linear_model import LinearRegression\n",
        "lr = LinearRegression()\n",
        "lr.fit(x_t,y_t)\n",
        "print(lr.predict(x_te))\n",
        "\"\"\""
      ],
      "metadata": {
        "colab": {
          "base_uri": "https://localhost:8080/",
          "height": 53
        },
        "id": "r3tySnJRmPDY",
        "outputId": "795a0cb0-b059-4c08-df2e-2ba82364bb9f"
      },
      "execution_count": 12,
      "outputs": [
        {
          "output_type": "execute_result",
          "data": {
            "text/plain": [
              "'\\nfrom sklearn.linear_model import LinearRegression\\nlr = LinearRegression()\\nlr.fit(x_t,y_t)\\nprint(lr.predict(x_te))\\n'"
            ],
            "application/vnd.google.colaboratory.intrinsic+json": {
              "type": "string"
            }
          },
          "metadata": {},
          "execution_count": 12
        }
      ]
    },
    {
      "cell_type": "code",
      "source": [
        "import pickle\n",
        "dosya = \"mode.kayit\" #dosyayı kaydet\n",
        "#pickle.dump(lr,open(dosya,'wb')) #dump boşalt"
      ],
      "metadata": {
        "id": "Prugex-5nk8p"
      },
      "execution_count": 13,
      "outputs": []
    },
    {
      "cell_type": "code",
      "source": [
        "yuklenen = pickle.load(open(dosya,'rb'))\n",
        "print(yuklenen)\n",
        "print(yuklenen.predict(x_te))"
      ],
      "metadata": {
        "colab": {
          "base_uri": "https://localhost:8080/"
        },
        "id": "8YbwPL6-oQ_C",
        "outputId": "7da64817-c902-442c-a3d1-b742ce784246"
      },
      "execution_count": 14,
      "outputs": [
        {
          "output_type": "stream",
          "name": "stdout",
          "text": [
            "LinearRegression()\n",
            "[57367.35372724 26370.77011167 57367.35372724 40319.23273867\n",
            " 27145.68470206 26370.77011167 27145.68470206 50393.12241374\n",
            " 40319.23273867 36444.65978673]\n"
          ]
        }
      ]
    }
  ]
}